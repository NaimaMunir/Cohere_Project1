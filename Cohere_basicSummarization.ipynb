{
  "nbformat": 4,
  "nbformat_minor": 0,
  "metadata": {
    "colab": {
      "provenance": [],
      "authorship_tag": "ABX9TyOrclqf1QtU9W3Ej57Hgufd",
      "include_colab_link": true
    },
    "kernelspec": {
      "name": "python3",
      "display_name": "Python 3"
    },
    "language_info": {
      "name": "python"
    },
    "accelerator": "GPU"
  },
  "cells": [
    {
      "cell_type": "markdown",
      "metadata": {
        "id": "view-in-github",
        "colab_type": "text"
      },
      "source": [
        "<a href=\"https://colab.research.google.com/github/NaimaMunir/Cohere_Project1/blob/main/Cohere_basicSummarization.ipynb\" target=\"_parent\"><img src=\"https://colab.research.google.com/assets/colab-badge.svg\" alt=\"Open In Colab\"/></a>"
      ]
    },
    {
      "cell_type": "markdown",
      "source": [
        "### Let's first install Cohere's python SDK"
      ],
      "metadata": {
        "id": "qTyFa9ov5dLC"
      }
    },
    {
      "cell_type": "code",
      "execution_count": 1,
      "metadata": {
        "colab": {
          "base_uri": "https://localhost:8080/"
        },
        "id": "uVCGdQHHzRj6",
        "outputId": "fa14f5a7-1a70-4e78-a195-4913abd6894e"
      },
      "outputs": [
        {
          "output_type": "stream",
          "name": "stdout",
          "text": [
            "Looking in indexes: https://pypi.org/simple, https://us-python.pkg.dev/colab-wheels/public/simple/\n",
            "Collecting cohere\n",
            "  Downloading cohere-2.6.1.tar.gz (9.2 kB)\n",
            "Requirement already satisfied: requests in /usr/local/lib/python3.7/dist-packages (from cohere) (2.23.0)\n",
            "Requirement already satisfied: urllib3!=1.25.0,!=1.25.1,<1.26,>=1.21.1 in /usr/local/lib/python3.7/dist-packages (from requests->cohere) (1.24.3)\n",
            "Requirement already satisfied: chardet<4,>=3.0.2 in /usr/local/lib/python3.7/dist-packages (from requests->cohere) (3.0.4)\n",
            "Requirement already satisfied: certifi>=2017.4.17 in /usr/local/lib/python3.7/dist-packages (from requests->cohere) (2022.9.24)\n",
            "Requirement already satisfied: idna<3,>=2.5 in /usr/local/lib/python3.7/dist-packages (from requests->cohere) (2.10)\n",
            "Building wheels for collected packages: cohere\n",
            "  Building wheel for cohere (setup.py) ... \u001b[?25l\u001b[?25hdone\n",
            "  Created wheel for cohere: filename=cohere-2.6.1-cp37-cp37m-linux_x86_64.whl size=9983 sha256=dbddfe615b9770fdacd2ad4ab026a68c86ab2619037110b609dbea2613025f45\n",
            "  Stored in directory: /root/.cache/pip/wheels/1a/a7/f3/93db4a9b3fd854bed581cb5ac8ae2c3bf5461189c37aca4e68\n",
            "Successfully built cohere\n",
            "Installing collected packages: cohere\n",
            "Successfully installed cohere-2.6.1\n"
          ]
        }
      ],
      "source": [
        "\n",
        "!pip install cohere"
      ]
    },
    {
      "cell_type": "code",
      "source": [
        "# Let's first install Cohere's python SDK\n",
        "!pip install cohere"
      ],
      "metadata": {
        "id": "K-KUWnJq0R8P"
      },
      "execution_count": null,
      "outputs": []
    },
    {
      "cell_type": "code",
      "source": [
        "import cohere\n",
        "import time\n",
        "import pandas as pd\n",
        "# Paste your API key here. Remember to not share it publicly \n",
        "api_key = 'lIVfcDdCJEzuuiyy27i18oC2zMlYhYsJ2sSJKm2n'\n",
        "co = cohere.Client(api_key)"
      ],
      "metadata": {
        "id": "_t2otSoJ0Sub"
      },
      "execution_count": 2,
      "outputs": []
    },
    {
      "cell_type": "code",
      "source": [],
      "metadata": {
        "id": "SPHmN0Ox4nzX"
      },
      "execution_count": null,
      "outputs": []
    },
    {
      "cell_type": "markdown",
      "source": [
        "### Sentences that we need to summarize"
      ],
      "metadata": {
        "id": "vlcLVI6t4xQv"
      }
    },
    {
      "cell_type": "code",
      "source": [
        "prompt = '''\"The killer whale or orca (Orcinus orca) is a toothed whale belonging to the oceanic dolphin family, of which it is the largest member\"\n",
        "In summary: \"The killer whale or orca is the largest type of dolphin\"\n",
        "---\n",
        "\"It is recognizable by its black-and-white patterned body\" \n",
        "In summary:\"Its body has a black and white pattern\"\n",
        "---\n",
        "\"Killer whales have a diverse diet, although individual populations often specialize in particular types of prey\" \n",
        "In summary:\"'''\n",
        "print(prompt)"
      ],
      "metadata": {
        "colab": {
          "base_uri": "https://localhost:8080/"
        },
        "id": "mjs9meky0TB4",
        "outputId": "1c3795fb-3c30-4352-b3ac-06c74398d8a7"
      },
      "execution_count": 3,
      "outputs": [
        {
          "output_type": "stream",
          "name": "stdout",
          "text": [
            "\"The killer whale or orca (Orcinus orca) is a toothed whale belonging to the oceanic dolphin family, of which it is the largest member\"\n",
            "In summary: \"The killer whale or orca is the largest type of dolphin\"\n",
            "---\n",
            "\"It is recognizable by its black-and-white patterned body\" \n",
            "In summary:\"Its body has a black and white pattern\"\n",
            "---\n",
            "\"Killer whales have a diverse diet, although individual populations often specialize in particular types of prey\" \n",
            "In summary:\"\n"
          ]
        }
      ]
    },
    {
      "cell_type": "code",
      "source": [
        "prompt1= ''' Vancouver is a beautiful city as it has mountains, oceans, forests and scenic beauty.'''"
      ],
      "metadata": {
        "id": "qHSfCuWD1wSe"
      },
      "execution_count": 23,
      "outputs": []
    },
    {
      "cell_type": "markdown",
      "source": [
        "### Hyperparameters and other API settings"
      ],
      "metadata": {
        "id": "r2zDnwCZ5I4j"
      }
    },
    {
      "cell_type": "code",
      "source": [
        "n_generations = 3\n",
        "\n",
        "prediction = co.generate(\n",
        "    model='large',\n",
        "    prompt=prompt1,\n",
        "    return_likelihoods = 'GENERATION',\n",
        "    stop_sequences=['\"'],\n",
        "    max_tokens=40,\n",
        "    temperature=0.7,\n",
        "    num_generations=n_generations,\n",
        "    k=0,\n",
        "    p=0.75)"
      ],
      "metadata": {
        "id": "ckHTEk270TOn"
      },
      "execution_count": 38,
      "outputs": []
    },
    {
      "cell_type": "markdown",
      "source": [
        "### Get list of generations"
      ],
      "metadata": {
        "id": "nFeuoG0q5Pw2"
      }
    },
    {
      "cell_type": "code",
      "source": [
        "\n",
        "gens = []\n",
        "likelihoods = []\n",
        "for gen in prediction.generations:\n",
        "    gens.append(gen.text)\n",
        "    \n",
        "    sum_likelihood = 0\n",
        "    for t in gen.token_likelihoods:\n",
        "        sum_likelihood += t.likelihood\n",
        "    # Get sum of likelihoods\n",
        "    likelihoods.append(sum_likelihood)"
      ],
      "metadata": {
        "id": "BEl8aGLL0Tan"
      },
      "execution_count": 39,
      "outputs": []
    },
    {
      "cell_type": "markdown",
      "source": [
        "### Print Generations"
      ],
      "metadata": {
        "id": "DudEggRW5WQi"
      }
    },
    {
      "cell_type": "code",
      "source": [
        "pd.options.display.max_colwidth = 500\n",
        "# Create a dataframe for the generated sentences and their likelihood scores\n",
        "df = pd.DataFrame({'generation':gens, 'likelihood': likelihoods})\n",
        "# Drop duplicates\n",
        "df = df.drop_duplicates(subset=['generation'])\n",
        "# Sort by highest sum likelihood\n",
        "df = df.sort_values('likelihood', ascending=False, ignore_index=True)\n",
        "\n",
        "# print('Candidate summaries for the sentence: \\n\"Killer whales have a diverse diet, although individual populations often specialize in particular types of prey.\"')\n",
        "df"
      ],
      "metadata": {
        "colab": {
          "base_uri": "https://localhost:8080/",
          "height": 173
        },
        "id": "vf50UXUg0Tny",
        "outputId": "71f747b2-59d0-4dd9-da96-8baff1e92627"
      },
      "execution_count": 40,
      "outputs": [
        {
          "output_type": "execute_result",
          "data": {
            "text/plain": [
              "                                                                                                                                                                                                                           generation  \\\n",
              "0                         It is also one of the greenest cities in the world. This makes Vancouver the perfect destination for travellers who love nature and would like to explore it. There are many travel sites that can help you   \n",
              "1   All the homes for sale in Vancouver have modern architecture with the latest amenities and facilities. Many homes for sale in Vancouver have views of mountains and waterfront.\\nThe downtown core of Vancouver is considered the   \n",
              "\n",
              "   likelihood  \n",
              "0  -59.135566  \n",
              "1  -77.167526  "
            ],
            "text/html": [
              "\n",
              "  <div id=\"df-9da2f03f-c66e-4c2a-9696-f7e26b83ce2d\">\n",
              "    <div class=\"colab-df-container\">\n",
              "      <div>\n",
              "<style scoped>\n",
              "    .dataframe tbody tr th:only-of-type {\n",
              "        vertical-align: middle;\n",
              "    }\n",
              "\n",
              "    .dataframe tbody tr th {\n",
              "        vertical-align: top;\n",
              "    }\n",
              "\n",
              "    .dataframe thead th {\n",
              "        text-align: right;\n",
              "    }\n",
              "</style>\n",
              "<table border=\"1\" class=\"dataframe\">\n",
              "  <thead>\n",
              "    <tr style=\"text-align: right;\">\n",
              "      <th></th>\n",
              "      <th>generation</th>\n",
              "      <th>likelihood</th>\n",
              "    </tr>\n",
              "  </thead>\n",
              "  <tbody>\n",
              "    <tr>\n",
              "      <th>0</th>\n",
              "      <td>It is also one of the greenest cities in the world. This makes Vancouver the perfect destination for travellers who love nature and would like to explore it. There are many travel sites that can help you</td>\n",
              "      <td>-59.135566</td>\n",
              "    </tr>\n",
              "    <tr>\n",
              "      <th>1</th>\n",
              "      <td>All the homes for sale in Vancouver have modern architecture with the latest amenities and facilities. Many homes for sale in Vancouver have views of mountains and waterfront.\\nThe downtown core of Vancouver is considered the</td>\n",
              "      <td>-77.167526</td>\n",
              "    </tr>\n",
              "  </tbody>\n",
              "</table>\n",
              "</div>\n",
              "      <button class=\"colab-df-convert\" onclick=\"convertToInteractive('df-9da2f03f-c66e-4c2a-9696-f7e26b83ce2d')\"\n",
              "              title=\"Convert this dataframe to an interactive table.\"\n",
              "              style=\"display:none;\">\n",
              "        \n",
              "  <svg xmlns=\"http://www.w3.org/2000/svg\" height=\"24px\"viewBox=\"0 0 24 24\"\n",
              "       width=\"24px\">\n",
              "    <path d=\"M0 0h24v24H0V0z\" fill=\"none\"/>\n",
              "    <path d=\"M18.56 5.44l.94 2.06.94-2.06 2.06-.94-2.06-.94-.94-2.06-.94 2.06-2.06.94zm-11 1L8.5 8.5l.94-2.06 2.06-.94-2.06-.94L8.5 2.5l-.94 2.06-2.06.94zm10 10l.94 2.06.94-2.06 2.06-.94-2.06-.94-.94-2.06-.94 2.06-2.06.94z\"/><path d=\"M17.41 7.96l-1.37-1.37c-.4-.4-.92-.59-1.43-.59-.52 0-1.04.2-1.43.59L10.3 9.45l-7.72 7.72c-.78.78-.78 2.05 0 2.83L4 21.41c.39.39.9.59 1.41.59.51 0 1.02-.2 1.41-.59l7.78-7.78 2.81-2.81c.8-.78.8-2.07 0-2.86zM5.41 20L4 18.59l7.72-7.72 1.47 1.35L5.41 20z\"/>\n",
              "  </svg>\n",
              "      </button>\n",
              "      \n",
              "  <style>\n",
              "    .colab-df-container {\n",
              "      display:flex;\n",
              "      flex-wrap:wrap;\n",
              "      gap: 12px;\n",
              "    }\n",
              "\n",
              "    .colab-df-convert {\n",
              "      background-color: #E8F0FE;\n",
              "      border: none;\n",
              "      border-radius: 50%;\n",
              "      cursor: pointer;\n",
              "      display: none;\n",
              "      fill: #1967D2;\n",
              "      height: 32px;\n",
              "      padding: 0 0 0 0;\n",
              "      width: 32px;\n",
              "    }\n",
              "\n",
              "    .colab-df-convert:hover {\n",
              "      background-color: #E2EBFA;\n",
              "      box-shadow: 0px 1px 2px rgba(60, 64, 67, 0.3), 0px 1px 3px 1px rgba(60, 64, 67, 0.15);\n",
              "      fill: #174EA6;\n",
              "    }\n",
              "\n",
              "    [theme=dark] .colab-df-convert {\n",
              "      background-color: #3B4455;\n",
              "      fill: #D2E3FC;\n",
              "    }\n",
              "\n",
              "    [theme=dark] .colab-df-convert:hover {\n",
              "      background-color: #434B5C;\n",
              "      box-shadow: 0px 1px 3px 1px rgba(0, 0, 0, 0.15);\n",
              "      filter: drop-shadow(0px 1px 2px rgba(0, 0, 0, 0.3));\n",
              "      fill: #FFFFFF;\n",
              "    }\n",
              "  </style>\n",
              "\n",
              "      <script>\n",
              "        const buttonEl =\n",
              "          document.querySelector('#df-9da2f03f-c66e-4c2a-9696-f7e26b83ce2d button.colab-df-convert');\n",
              "        buttonEl.style.display =\n",
              "          google.colab.kernel.accessAllowed ? 'block' : 'none';\n",
              "\n",
              "        async function convertToInteractive(key) {\n",
              "          const element = document.querySelector('#df-9da2f03f-c66e-4c2a-9696-f7e26b83ce2d');\n",
              "          const dataTable =\n",
              "            await google.colab.kernel.invokeFunction('convertToInteractive',\n",
              "                                                     [key], {});\n",
              "          if (!dataTable) return;\n",
              "\n",
              "          const docLinkHtml = 'Like what you see? Visit the ' +\n",
              "            '<a target=\"_blank\" href=https://colab.research.google.com/notebooks/data_table.ipynb>data table notebook</a>'\n",
              "            + ' to learn more about interactive tables.';\n",
              "          element.innerHTML = '';\n",
              "          dataTable['output_type'] = 'display_data';\n",
              "          await google.colab.output.renderOutput(dataTable, element);\n",
              "          const docLink = document.createElement('div');\n",
              "          docLink.innerHTML = docLinkHtml;\n",
              "          element.appendChild(docLink);\n",
              "        }\n",
              "      </script>\n",
              "    </div>\n",
              "  </div>\n",
              "  "
            ]
          },
          "metadata": {},
          "execution_count": 40
        }
      ]
    }
  ]
}